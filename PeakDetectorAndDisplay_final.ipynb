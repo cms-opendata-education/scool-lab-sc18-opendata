{
 "cells": [
  {
   "cell_type": "markdown",
   "metadata": {},
   "source": [
    "# Welcome!\n",
    "## Here you can find your own particles from the CMS data.\n",
    "\n",
    "By clicking on the graph, you can see which particle belongs to the peak. This graph was made using CMS data. Some particles in the accelerator decay into muon particles. We can track these muons and calculate what mass the original particle had, the invariant mass. Some muons were not created from a decaying particle, which means the results are useless. Only the peaks of the graphs are interesting; those masses belong to real particles that decayed into muons. Click on the peaks to find out what particles you found!\n",
    "\n",
    "Besides the mass and name of the particle, you can see the 'width'. This means the original particle does not always have the same weight. Because of the Heisenberg principle, particles that have a short life have a less defined energy. We can represent this using the width.\n",
    "\n",
    "Finally, you can see the quark composition of the particles. Almost every particle in this graph is a meson, which means it exists of two quarks.\n",
    "\n",
    "To run each code cell, click into the cell and press \"Shift\" and \"Enter\" simultaneously. "
   ]
  },
  {
   "cell_type": "markdown",
   "metadata": {},
   "source": [
    "## Tools Used\n",
    "Several tools were used to create this program. You can find breif descriptions in the code comments below. Make sure to run this before you start! \n",
    "\n",
    "An error message will show up in the first run, but it will go away if you run this again. "
   ]
  },
  {
   "cell_type": "code",
   "execution_count": 2,
   "metadata": {},
   "outputs": [],
   "source": [
    "import pandas as pd \n",
    "#pandas is for data structures and data analysis tools\n",
    "import numpy as np\n",
    "#numpy is for scientific computing\n",
    "import matplotlib.pyplot as plt\n",
    "#matplotlib is for plotting\n",
    "from ipywidgets import interact, widgets\n",
    "%matplotlib inline"
   ]
  },
  {
   "cell_type": "markdown",
   "metadata": {},
   "source": [
    "## The Data\n",
    "\n",
    "These displays come from real CMS data, a particle detector at CERN in Switzerland. For this example, we used a data set with two muons, which we knew would have some interesting peaks. \n",
    "\n",
    "However, there are many more data sets to explore and analyze, which can be discovered at: http://opendata.cern.ch/record/545"
   ]
  },
  {
   "cell_type": "code",
   "execution_count": 3,
   "metadata": {},
   "outputs": [
    {
     "data": {
      "text/html": [
       "<div>\n",
       "<style scoped>\n",
       "    .dataframe tbody tr th:only-of-type {\n",
       "        vertical-align: middle;\n",
       "    }\n",
       "\n",
       "    .dataframe tbody tr th {\n",
       "        vertical-align: top;\n",
       "    }\n",
       "\n",
       "    .dataframe thead th {\n",
       "        text-align: right;\n",
       "    }\n",
       "</style>\n",
       "<table border=\"1\" class=\"dataframe\">\n",
       "  <thead>\n",
       "    <tr style=\"text-align: right;\">\n",
       "      <th></th>\n",
       "      <th>Run</th>\n",
       "      <th>Event</th>\n",
       "      <th>type1</th>\n",
       "      <th>E1</th>\n",
       "      <th>px1</th>\n",
       "      <th>py1</th>\n",
       "      <th>pz1</th>\n",
       "      <th>pt1</th>\n",
       "      <th>eta1</th>\n",
       "      <th>phi1</th>\n",
       "      <th>...</th>\n",
       "      <th>type2</th>\n",
       "      <th>E2</th>\n",
       "      <th>px2</th>\n",
       "      <th>py2</th>\n",
       "      <th>pz2</th>\n",
       "      <th>pt2</th>\n",
       "      <th>eta2</th>\n",
       "      <th>phi2</th>\n",
       "      <th>Q2</th>\n",
       "      <th>M</th>\n",
       "    </tr>\n",
       "  </thead>\n",
       "  <tbody>\n",
       "    <tr>\n",
       "      <th>0</th>\n",
       "      <td>165617</td>\n",
       "      <td>74601703</td>\n",
       "      <td>G</td>\n",
       "      <td>9.6987</td>\n",
       "      <td>-9.5104</td>\n",
       "      <td>0.3662</td>\n",
       "      <td>1.8633</td>\n",
       "      <td>9.5175</td>\n",
       "      <td>0.1945</td>\n",
       "      <td>3.1031</td>\n",
       "      <td>...</td>\n",
       "      <td>G</td>\n",
       "      <td>9.7633</td>\n",
       "      <td>7.3277</td>\n",
       "      <td>-1.1524</td>\n",
       "      <td>6.3473</td>\n",
       "      <td>7.4178</td>\n",
       "      <td>0.7756</td>\n",
       "      <td>-0.1560</td>\n",
       "      <td>1</td>\n",
       "      <td>17.4922</td>\n",
       "    </tr>\n",
       "    <tr>\n",
       "      <th>1</th>\n",
       "      <td>165617</td>\n",
       "      <td>75100943</td>\n",
       "      <td>G</td>\n",
       "      <td>6.2039</td>\n",
       "      <td>-4.2666</td>\n",
       "      <td>0.4565</td>\n",
       "      <td>-4.4793</td>\n",
       "      <td>4.2910</td>\n",
       "      <td>-0.9121</td>\n",
       "      <td>3.0350</td>\n",
       "      <td>...</td>\n",
       "      <td>G</td>\n",
       "      <td>9.6690</td>\n",
       "      <td>7.2740</td>\n",
       "      <td>-2.8211</td>\n",
       "      <td>-5.7104</td>\n",
       "      <td>7.8019</td>\n",
       "      <td>-0.6786</td>\n",
       "      <td>-0.3700</td>\n",
       "      <td>1</td>\n",
       "      <td>11.5534</td>\n",
       "    </tr>\n",
       "    <tr>\n",
       "      <th>2</th>\n",
       "      <td>165617</td>\n",
       "      <td>75587682</td>\n",
       "      <td>G</td>\n",
       "      <td>19.2892</td>\n",
       "      <td>-4.2121</td>\n",
       "      <td>-0.6516</td>\n",
       "      <td>18.8121</td>\n",
       "      <td>4.2622</td>\n",
       "      <td>2.1905</td>\n",
       "      <td>-2.9881</td>\n",
       "      <td>...</td>\n",
       "      <td>G</td>\n",
       "      <td>9.8244</td>\n",
       "      <td>4.3439</td>\n",
       "      <td>-0.4735</td>\n",
       "      <td>8.7985</td>\n",
       "      <td>4.3697</td>\n",
       "      <td>1.4497</td>\n",
       "      <td>-0.1086</td>\n",
       "      <td>1</td>\n",
       "      <td>9.1636</td>\n",
       "    </tr>\n",
       "    <tr>\n",
       "      <th>3</th>\n",
       "      <td>165617</td>\n",
       "      <td>75660978</td>\n",
       "      <td>G</td>\n",
       "      <td>7.0427</td>\n",
       "      <td>-6.3268</td>\n",
       "      <td>-0.2685</td>\n",
       "      <td>3.0802</td>\n",
       "      <td>6.3325</td>\n",
       "      <td>0.4690</td>\n",
       "      <td>-3.0992</td>\n",
       "      <td>...</td>\n",
       "      <td>G</td>\n",
       "      <td>5.5857</td>\n",
       "      <td>4.4748</td>\n",
       "      <td>0.8489</td>\n",
       "      <td>-3.2319</td>\n",
       "      <td>4.5546</td>\n",
       "      <td>-0.6605</td>\n",
       "      <td>0.1875</td>\n",
       "      <td>1</td>\n",
       "      <td>12.4774</td>\n",
       "    </tr>\n",
       "    <tr>\n",
       "      <th>4</th>\n",
       "      <td>165617</td>\n",
       "      <td>75947690</td>\n",
       "      <td>G</td>\n",
       "      <td>7.2751</td>\n",
       "      <td>0.1030</td>\n",
       "      <td>-5.5331</td>\n",
       "      <td>-4.7212</td>\n",
       "      <td>5.5340</td>\n",
       "      <td>-0.7736</td>\n",
       "      <td>-1.5522</td>\n",
       "      <td>...</td>\n",
       "      <td>G</td>\n",
       "      <td>7.3181</td>\n",
       "      <td>-0.3988</td>\n",
       "      <td>6.9408</td>\n",
       "      <td>2.2825</td>\n",
       "      <td>6.9523</td>\n",
       "      <td>0.3227</td>\n",
       "      <td>1.6282</td>\n",
       "      <td>1</td>\n",
       "      <td>14.3159</td>\n",
       "    </tr>\n",
       "  </tbody>\n",
       "</table>\n",
       "<p>5 rows × 21 columns</p>\n",
       "</div>"
      ],
      "text/plain": [
       "      Run     Event type1       E1     px1     py1      pz1     pt1    eta1  \\\n",
       "0  165617  74601703     G   9.6987 -9.5104  0.3662   1.8633  9.5175  0.1945   \n",
       "1  165617  75100943     G   6.2039 -4.2666  0.4565  -4.4793  4.2910 -0.9121   \n",
       "2  165617  75587682     G  19.2892 -4.2121 -0.6516  18.8121  4.2622  2.1905   \n",
       "3  165617  75660978     G   7.0427 -6.3268 -0.2685   3.0802  6.3325  0.4690   \n",
       "4  165617  75947690     G   7.2751  0.1030 -5.5331  -4.7212  5.5340 -0.7736   \n",
       "\n",
       "     phi1   ...     type2      E2     px2     py2     pz2     pt2    eta2  \\\n",
       "0  3.1031   ...         G  9.7633  7.3277 -1.1524  6.3473  7.4178  0.7756   \n",
       "1  3.0350   ...         G  9.6690  7.2740 -2.8211 -5.7104  7.8019 -0.6786   \n",
       "2 -2.9881   ...         G  9.8244  4.3439 -0.4735  8.7985  4.3697  1.4497   \n",
       "3 -3.0992   ...         G  5.5857  4.4748  0.8489 -3.2319  4.5546 -0.6605   \n",
       "4 -1.5522   ...         G  7.3181 -0.3988  6.9408  2.2825  6.9523  0.3227   \n",
       "\n",
       "     phi2  Q2        M  \n",
       "0 -0.1560   1  17.4922  \n",
       "1 -0.3700   1  11.5534  \n",
       "2 -0.1086   1   9.1636  \n",
       "3  0.1875   1  12.4774  \n",
       "4  1.6282   1  14.3159  \n",
       "\n",
       "[5 rows x 21 columns]"
      ]
     },
     "execution_count": 3,
     "metadata": {},
     "output_type": "execute_result"
    }
   ],
   "source": [
    "dimuon = pd.read_csv('http://opendata.cern.ch/record/545/files/Dimuon_DoubleMu.csv')\n",
    "dimuon.head()"
   ]
  },
  {
   "cell_type": "markdown",
   "metadata": {},
   "source": [
    "## Finding Information From The Data\n",
    "\n",
    "You can see the vast amount of data that we have to analyze. What we really want to see is the invariant mass, and hopefully find peaks and match them to particles. Run this cell to see the invariant mass of all the events that were noted. \n",
    "\n",
    "You can see that it would be hard to identify the peaks like this, looking through the data would take a lot of time and possible peaks could be missed as a result of bias from the physicist looking at it. "
   ]
  },
  {
   "cell_type": "code",
   "execution_count": 4,
   "metadata": {},
   "outputs": [
    {
     "data": {
      "image/png": "[encoded data removed]",
      "text/plain": [
       "<Figure size 1080x360 with 1 Axes>"
      ]
     },
     "metadata": {},
     "output_type": "display_data"
    }
   ],
   "source": [
    "plt.figure(figsize = (15,5))\n",
    "plt.title('Invariant Mass of Two Muons')\n",
    "plt.xlabel('Invariant Mass')\n",
    "plt.ylabel('Number of Events')\n",
    "#set plot settings\n",
    "\n",
    "plt.hist(dimuon.M, bins = 500, range = (0, 120))\n",
    "#plot\n",
    "\n",
    "plt.show()\n",
    "#display"
   ]
  },
  {
   "cell_type": "markdown",
   "metadata": {},
   "source": [
    "## Peak Detection\n",
    "\n",
    "The idea behind our peak detection algorithm can be described as a statistical approach for finding deviations in a dataset. We first define a way to slice up our data into distinct ranges of masses, where the length of each slice increases proportionally to the energy level we are analyzing. The two filters we use to find our peaks are standard deviation and mode value and here is how we implement them in our algorithm:\n",
    "    \n",
    "Since we have divided our dataset into slices, we can look for slices where the standard deviation is relatively small. This would isolate areas where the count of particle detections fluctuates in close proximity to a certain number. This, of course, isn't enough to reach our goal, because that would add flat areas in the dataset to our peaks array. This is where the mode value comes into play.\n",
    "\n",
    "If the mode of the slice we are analyzing at any given moment equals to any previous inspected energy, that means that we are isolating the same peak once again and therefore we should add it to the respective counter.\n",
    "\n",
    "In the end, what all this means is that the found modes which have a small standard deviation to energy value ratio (we use the ratio because of the increasing slice length), but a great counter amount resemble the peaks we are looking for in our dataset.\n",
    "\n",
    "The user could pick the values \"std_max\" and \"min_count\" (2.5% and 30 work best in this case) using the provided sliders in order to get the peaks array that suits his needs the most.\n"
   ]
  },
  {
   "cell_type": "code",
   "execution_count": 5,
   "metadata": {},
   "outputs": [
    {
     "name": "stdout",
     "output_type": "stream",
     "text": [
      "Pick a max standard deviation value (in %):\n"
     ]
    },
    {
     "data": {
      "application/vnd.jupyter.widget-view+json": {
       "model_id": "309353050c6543729ff67fd28a50827c",
       "version_major": 2,
       "version_minor": 0
      },
      "text/html": [
       "<p>Failed to display Jupyter Widget of type <code>FloatSlider</code>.</p>\n",
       "<p>\n",
       "  If you're reading this message in the Jupyter Notebook or JupyterLab Notebook, it may mean\n",
       "  that the widgets JavaScript is still loading. If this message persists, it\n",
       "  likely means that the widgets JavaScript library is either not installed or\n",
       "  not enabled. See the <a href=\"https://ipywidgets.readthedocs.io/en/stable/user_install.html\">Jupyter\n",
       "  Widgets Documentation</a> for setup instructions.\n",
       "</p>\n",
       "<p>\n",
       "  If you're reading this message in another frontend (for example, a static\n",
       "  rendering on GitHub or <a href=\"https://nbviewer.jupyter.org/\">NBViewer</a>),\n",
       "  it may mean that your frontend doesn't currently support widgets.\n",
       "</p>\n"
      ],
      "text/plain": [
       "FloatSlider(value=2.5, continuous_update=False, description='std_max = ', max=4.0, min=2.0, step=0.01)"
      ]
     },
     "metadata": {},
     "output_type": "display_data"
    },
    {
     "name": "stdout",
     "output_type": "stream",
     "text": [
      "Pick a max count value (in %):\n"
     ]
    },
    {
     "data": {
      "application/vnd.jupyter.widget-view+json": {
       "model_id": "a83618dd566344098ac530e733b4d937",
       "version_major": 2,
       "version_minor": 0
      },
      "text/html": [
       "<p>Failed to display Jupyter Widget of type <code>IntSlider</code>.</p>\n",
       "<p>\n",
       "  If you're reading this message in the Jupyter Notebook or JupyterLab Notebook, it may mean\n",
       "  that the widgets JavaScript is still loading. If this message persists, it\n",
       "  likely means that the widgets JavaScript library is either not installed or\n",
       "  not enabled. See the <a href=\"https://ipywidgets.readthedocs.io/en/stable/user_install.html\">Jupyter\n",
       "  Widgets Documentation</a> for setup instructions.\n",
       "</p>\n",
       "<p>\n",
       "  If you're reading this message in another frontend (for example, a static\n",
       "  rendering on GitHub or <a href=\"https://nbviewer.jupyter.org/\">NBViewer</a>),\n",
       "  it may mean that your frontend doesn't currently support widgets.\n",
       "</p>\n"
      ],
      "text/plain": [
       "IntSlider(value=30, continuous_update=False, description='min_count = ', max=50)"
      ]
     },
     "metadata": {},
     "output_type": "display_data"
    }
   ],
   "source": [
    "stdSlider = widgets.FloatSlider(\n",
    "    value=2.5,\n",
    "    min=2,\n",
    "    max=4,\n",
    "    step=0.01,\n",
    "    description='std_max = ',\n",
    "    disabled=False,\n",
    "    continuous_update=False,\n",
    "    orientation='horizontal',\n",
    "    readout=True,\n",
    "    readout_format='.2f',)\n",
    "\n",
    "print('Pick a max standard deviation value (in %):')\n",
    "display(stdSlider)\n",
    "\n",
    "minSlider = widgets.IntSlider(\n",
    "    value=30,\n",
    "    min=0,\n",
    "    max=50,\n",
    "    step=1,\n",
    "    description='min_count = ',\n",
    "    disabled=False,\n",
    "    continuous_update=False,\n",
    "    orientation='horizontal',\n",
    "    readout=True,\n",
    "    readout_format='d',)\n",
    "\n",
    "print('Pick a max count value (in %):')\n",
    "display(minSlider)"
   ]
  },
  {
   "cell_type": "code",
   "execution_count": 6,
   "metadata": {},
   "outputs": [
    {
     "name": "stdout",
     "output_type": "stream",
     "text": [
      "These are the peaks we get: \n",
      "[ 0.545  0.77   1.008  1.222  2.462  3.106  3.716  5.323  6.748  9.454\n",
      " 19.516 56.523 91.139]\n"
     ]
    }
   ],
   "source": [
    "std_range = stdSlider.value/100\n",
    "min_count = minSlider.value\n",
    "\n",
    "# Each slice overlaps with up to 50 previous slices of data.\n",
    "#\n",
    "# It will grow the slice size a little bit as the energy gets higger\n",
    "def next_slice(last_start, last_end):\n",
    "    last_step = last_end - last_start\n",
    "    next_start = last_start + last_step / 50\n",
    "    next_end = next_start * 1.0955\n",
    "    return (next_start, next_end)\n",
    "\n",
    "# Energy limit to search\n",
    "maximum = 120\n",
    "\n",
    "# Initialize slice limits and mode list\n",
    "(st, end) = next_slice(0.4, 0.4)\n",
    "modes = []\n",
    "\n",
    "\n",
    "while  True:\n",
    "    # We got to the end of the dataset, just end the iteration\n",
    "    if end > maximum:\n",
    "        break\n",
    "\n",
    "    # We get the slice of data\n",
    "    slc = dimuon[(dimuon.M >= st) & (dimuon.M <= end)]\n",
    "\n",
    "    # We calculate the mean, mode and standard deviation\n",
    "    mode = slc.M.mode().mean()\n",
    "    std = slc.M.std()\n",
    "\n",
    "    # We set the \"modified\" variable to know if we chnged the modes\n",
    "    modified = False\n",
    "    for idx, item in enumerate(modes):\n",
    "        if item['val'] == mode:\n",
    "            # There was some other mode with this energy before, we add one to the counter\n",
    "            modes[idx]['count'] += 1\n",
    "            if item['std'] > std:\n",
    "                # The new standard deviation is lower, let's update it\n",
    "                modes[idx]['std'] = std\n",
    "            modified = True\n",
    "            break\n",
    "\n",
    "    # There was no previous mode with this energy, let's add a new one\n",
    "    if not modified:\n",
    "        modes.append({'val': mode, 'count': 1, 'std': std})\n",
    "\n",
    "    # Get the next slice limits\n",
    "    (st, end) = next_slice(st, end)\n",
    "    \n",
    "peaks = (p for p in modes if (p['std']/p['val'] < std_range and p['count'] > min_count))\n",
    "\n",
    "massPeaks = np.array([])\n",
    "\n",
    "def appMass(num):\n",
    "    temp = int(num*1000)\n",
    "    return float(temp/1000)\n",
    "\n",
    "for peak in peaks:\n",
    "    massPeaks = np.append(massPeaks, appMass(peak['val']))\n",
    "    \n",
    "print('These are the peaks we get: \\n' + str(massPeaks))"
   ]
  },
  {
   "cell_type": "markdown",
   "metadata": {},
   "source": [
    "## Particle Information\n",
    "To be able to tell you about a peak, the program has to have some infromation on it. Here, we load a database of particles and their properties to be able to accuratley match them to the peaks we find. Run this cell to load the data, and see it in a rought table. "
   ]
  },
  {
   "cell_type": "code",
   "execution_count": 7,
   "metadata": {},
   "outputs": [
    {
     "name": "stdout",
     "output_type": "stream",
     "text": [
      "          Unnamed: 0  Mass (GeV)  Particle  Width (MeV) Quark composition\n",
      "Particle                                                                 \n",
      "η                  0       0.548         η      0.00131       complicated\n",
      "ω (782)            1       0.783   ω (782)      8.49000       complicated\n",
      "ρ (770)            2       0.775   ρ (770)    150.00000       complicated\n",
      "K°                 3       0.498        K°          NaN               ds̄\n",
      "D⁰                 4       1.860        D⁰          NaN               cū\n",
      "ϕ (1020)           5       1.020  ϕ (1020)      4.27000               ss̄\n",
      "B⁰                 6       5.280        B⁰          NaN               db̄\n",
      "B⁰                 7       5.370        B⁰          NaN               sb̄\n",
      "J/ψ (1S)           8       3.100  J/ψ (1S)      0.09290               cc̄\n",
      "ψ (2S)             9       3.690    ψ (2S)      0.29600               cc̄\n",
      "ψ (4160)          10       4.190  ψ (4160)     70.00000               cc̄\n",
      "η (1S)            11       9.400    η (1S)     10.00000               bb̄\n",
      "Y (1S)            12       9.460    Y (1S)      0.05400               bb̄\n",
      "Y (2S)            13      10.000    Y (2S)      0.03200               bb̄\n",
      "Y (3S)            14      10.400    Y (3S)      0.02030               bb̄\n",
      "Z                 15      91.200         Z          NaN                 -\n"
     ]
    }
   ],
   "source": [
    "#read the particle listing\n",
    "df = pd.read_csv('https://raw.githubusercontent.com/cms-opendata-education/scool-lab-sc18-opendata/master/ListOfParticles.csv')\n",
    "#and for practical reasons set the particle name as index\n",
    "df2 = df.set_index(\"Particle\", drop = False)\n",
    "print(df2)"
   ]
  },
  {
   "cell_type": "markdown",
   "metadata": {},
   "source": [
    "## Peak Selection - Cleaning Up the Data\n",
    "Unfortunatly the algorithm is unable to perfectly filter out all the peaks.For now, this must be supplemented with human intelligence. The following block of code separates the peaks into ones that are capable of being matched to particles, and others than are not. It then moves through the unmatched peaks and asks the user whether this \"peak\" is valid, or should be removed. The matched and selected peaks move on to the final display."
   ]
  },
  {
   "cell_type": "code",
   "execution_count": 8,
   "metadata": {},
   "outputs": [
    {
     "name": "stdout",
     "output_type": "stream",
     "text": [
      "[0.545, 0.77, 3.106, 3.716, 9.454, 91.139]\n",
      "[1.008, 1.222, 2.462, 5.323, 6.748, 19.516, 56.523]\n"
     ]
    },
    {
     "data": {
      "image/png": "[encoded data removed]",
      "text/plain": [
       "<Figure size 432x288 with 1 Axes>"
      ]
     },
     "metadata": {},
     "output_type": "display_data"
    },
    {
     "name": "stdout",
     "output_type": "stream",
     "text": [
      "Sorry! I cannot find a particle match for this peak. Here is a display of it.\n",
      "It has a mass of 1.008.\n",
      "Shall I remove it from the list? (y/n)    n\n"
     ]
    },
    {
     "data": {
      "image/png": "[encoded data removed]",
      "text/plain": [
       "<Figure size 432x288 with 1 Axes>"
      ]
     },
     "metadata": {},
     "output_type": "display_data"
    },
    {
     "name": "stdout",
     "output_type": "stream",
     "text": [
      "Sorry! I cannot find a particle match for this peak. Here is a display of it.\n",
      "It has a mass of 1.222.\n",
      "Shall I remove it from the list? (y/n)    y\n"
     ]
    },
    {
     "data": {
      "image/png": "[encoded data removed]",
      "text/plain": [
       "<Figure size 432x288 with 1 Axes>"
      ]
     },
     "metadata": {},
     "output_type": "display_data"
    },
    {
     "name": "stdout",
     "output_type": "stream",
     "text": [
      "Sorry! I cannot find a particle match for this peak. Here is a display of it.\n",
      "It has a mass of 2.462.\n",
      "Shall I remove it from the list? (y/n)    y\n"
     ]
    },
    {
     "data": {
      "image/png": "[encoded data removed]",
      "text/plain": [
       "<Figure size 432x288 with 1 Axes>"
      ]
     },
     "metadata": {},
     "output_type": "display_data"
    },
    {
     "name": "stdout",
     "output_type": "stream",
     "text": [
      "Sorry! I cannot find a particle match for this peak. Here is a display of it.\n",
      "It has a mass of 5.323.\n",
      "Shall I remove it from the list? (y/n)    y\n"
     ]
    },
    {
     "data": {
      "image/png": "[encoded data removed]",
      "text/plain": [
       "<Figure size 432x288 with 1 Axes>"
      ]
     },
     "metadata": {},
     "output_type": "display_data"
    },
    {
     "name": "stdout",
     "output_type": "stream",
     "text": [
      "Sorry! I cannot find a particle match for this peak. Here is a display of it.\n",
      "It has a mass of 6.748.\n",
      "Shall I remove it from the list? (y/n)    y\n"
     ]
    },
    {
     "data": {
      "image/png": "[encoded data removed]",
      "text/plain": [
       "<Figure size 432x288 with 1 Axes>"
      ]
     },
     "metadata": {},
     "output_type": "display_data"
    },
    {
     "name": "stdout",
     "output_type": "stream",
     "text": [
      "Sorry! I cannot find a particle match for this peak. Here is a display of it.\n",
      "It has a mass of 19.516.\n",
      "Shall I remove it from the list? (y/n)    y\n"
     ]
    },
    {
     "data": {
      "image/png": "[encoded data removed]",
      "text/plain": [
       "<Figure size 432x288 with 1 Axes>"
      ]
     },
     "metadata": {},
     "output_type": "display_data"
    },
    {
     "name": "stdout",
     "output_type": "stream",
     "text": [
      "Sorry! I cannot find a particle match for this peak. Here is a display of it.\n",
      "It has a mass of 56.523.\n",
      "Shall I remove it from the list? (y/n)    y\n",
      "\n",
      "Here are the peaks that we will be using: \n",
      "[0.545, 0.77, 1.008, 3.106, 3.716, 9.454, 91.139]\n"
     ]
    }
   ],
   "source": [
    "matched = []\n",
    "unmatched = []\n",
    "\n",
    "for mypeak in massPeaks:\n",
    "    myerror = .01*mypeak\n",
    "    myparticle = df2.loc[(df2['Mass (GeV)']  < mypeak + myerror) & (df2['Mass (GeV)']  > mypeak - myerror) ]\n",
    "    try:\n",
    "        x = myparticle['Particle'][0]\n",
    "        matched.append(mypeak)\n",
    "    except:\n",
    "        unmatched.append(mypeak)\n",
    "    \n",
    "print(matched)\n",
    "print(unmatched)\n",
    "\n",
    "for fpeak in unmatched:\n",
    "    frange = 0.1*fpeak\n",
    "    plt.hist(dimuon.M, bins=100, range=(fpeak-frange,fpeak+frange))\n",
    "    plt.title('Invariant Mass of Two Muons')\n",
    "    plt.xlabel('Invariant Mass')\n",
    "    plt.ylabel('Number of Events')\n",
    "    plt.show()\n",
    "    print('Sorry! I cannot find a particle match for this peak. Here is a display of it.')\n",
    "    print('It has a mass of ' + str(fpeak) + '.')\n",
    "    ans = str(input('Shall I remove it from the list? (y/n)    '))\n",
    "    if ans == 'n':\n",
    "        matched.append(fpeak)\n",
    "\n",
    "matched.sort()\n",
    "names = {}\n",
    "for i in range(len(matched)):\n",
    "    names[(str(matched[i]) + ' GeV')]= i\n",
    "        \n",
    "\n",
    "print('\\nHere are the peaks that we will be using: \\n' + str(matched))"
   ]
  },
  {
   "cell_type": "markdown",
   "metadata": {},
   "source": [
    "## Final Particle Display\n",
    "Finally, we are ready to display the peaks and the particles they represent. Run the code below to learn about the particles!\n",
    "\n",
    "Select which peak you want to look at using the dropdown menu at the top. \n"
   ]
  },
  {
   "cell_type": "code",
   "execution_count": 10,
   "metadata": {},
   "outputs": [
    {
     "data": {
      "application/vnd.jupyter.widget-view+json": {
       "model_id": "e5c159f03a2d48e5b9629d8bca325f64",
       "version_major": 2,
       "version_minor": 0
      },
      "text/html": [
       "<p>Failed to display Jupyter Widget of type <code>interactive</code>.</p>\n",
       "<p>\n",
       "  If you're reading this message in the Jupyter Notebook or JupyterLab Notebook, it may mean\n",
       "  that the widgets JavaScript is still loading. If this message persists, it\n",
       "  likely means that the widgets JavaScript library is either not installed or\n",
       "  not enabled. See the <a href=\"https://ipywidgets.readthedocs.io/en/stable/user_install.html\">Jupyter\n",
       "  Widgets Documentation</a> for setup instructions.\n",
       "</p>\n",
       "<p>\n",
       "  If you're reading this message in another frontend (for example, a static\n",
       "  rendering on GitHub or <a href=\"https://nbviewer.jupyter.org/\">NBViewer</a>),\n",
       "  it may mean that your frontend doesn't currently support widgets.\n",
       "</p>\n"
      ],
      "text/plain": [
       "interactive(children=(Dropdown(description='n', options={'0.545 GeV': 0, '0.77 GeV': 1, '1.008 GeV': 2, '3.106 GeV': 3, '3.716 GeV': 4, '9.454 GeV': 5, '91.139 GeV': 6}, value=0), Output()), _dom_classes=('widget-interact',))"
      ]
     },
     "metadata": {},
     "output_type": "display_data"
    },
    {
     "data": {
      "text/plain": [
       "<function __main__.f(n)>"
      ]
     },
     "execution_count": 10,
     "metadata": {},
     "output_type": "execute_result"
    }
   ],
   "source": [
    "def f(n):\n",
    "    mypeak = matched[n]\n",
    "    myerror = .05*mypeak\n",
    "    myparticle = df2.loc[(df2['Mass (GeV)']  < mypeak + myerror) & (df2['Mass (GeV)']  > mypeak - myerror) ]\n",
    "    try:\n",
    "        print('This particle could be', myparticle['Particle'][0], 'with mass of', round(df2.loc[myparticle['Particle'][0],'Mass (GeV)'],3), 'GeV/c2')\n",
    "        if myparticle['Quark composition'][0] != '-'  and myparticle['Quark composition'][0] != 'complicated':\n",
    "            print('The quark composition of this particle is', myparticle['Quark composition'][0] + '.')\n",
    "        if myparticle['Width (MeV)'][0] == myparticle['Width (MeV)'][0]:\n",
    "            print('The natural width of this particle is', round(myparticle['Width (MeV)'][0],3), 'MeV')\n",
    "\n",
    "    except:\n",
    "        print('Sorry! I cannot match a particle here.')\n",
    "    myrange = .1*mypeak\n",
    "    plt.hist(dimuon.M, bins=100, range=(mypeak-myrange,mypeak+myrange))\n",
    "    plt.title('Invariant Mass of Two Muons')\n",
    "    plt.xlabel('Invariant Mass')\n",
    "    plt.ylabel('Number of Events')\n",
    "    plt.show()\n",
    "    \n",
    "interact(f, n=(names))"
   ]
  },
  {
   "cell_type": "code",
   "execution_count": null,
   "metadata": {},
   "outputs": [],
   "source": []
  }
 ],
 "metadata": {
  "kernelspec": {
   "display_name": "Python 3",
   "language": "python",
   "name": "python3"
  },
  "language_info": {
   "codemirror_mode": {
    "name": "ipython",
    "version": 3
   },
   "file_extension": ".py",
   "mimetype": "text/x-python",
   "name": "python",
   "nbconvert_exporter": "python",
   "pygments_lexer": "ipython3",
   "version": "3.6.5"
  }
 },
 "nbformat": 4,
 "nbformat_minor": 2
}

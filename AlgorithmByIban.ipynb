{
 "cells": [
  {
   "cell_type": "code",
   "execution_count": 11,
   "metadata": {},
   "outputs": [],
   "source": [
    "import pandas as pd\n",
    "import matplotlib.pyplot as plt\n",
    "import numpy as np"
   ]
  },
  {
   "cell_type": "code",
   "execution_count": 12,
   "metadata": {},
   "outputs": [],
   "source": [
    "std_range = 0.025\n",
    "min_count = 30"
   ]
  },
  {
   "cell_type": "code",
   "execution_count": 14,
   "metadata": {},
   "outputs": [],
   "source": [
    "dimuon = pd.read_csv('http://opendata.cern.ch/record/545/files/Dimuon_DoubleMu.csv')"
   ]
  },
  {
   "cell_type": "code",
   "execution_count": 15,
   "metadata": {},
   "outputs": [],
   "source": [
    "def get_particle(energy):\n",
    "    if energy > 0.48 and energy < 0.52:\n",
    "        return \"K⁰ (Neutral Kaon)\"\n",
    "    elif energy > 0.53 and energy < 0.57:\n",
    "        return \"η (Eta)\"\n",
    "    elif energy > 0.77 and energy < 0.78:\n",
    "        return \"ρ (770) (Rho)\"\n",
    "    elif energy > 0.78 and energy < 0.79:\n",
    "        return \"ω (782) (Omega)\"\n",
    "    elif energy > 1 and energy < 1.05:\n",
    "        return \"Φ (1020) (Phi)\"\n",
    "    elif energy > 1.83 and energy < 1.9:\n",
    "        return \"D⁰ (Neutral D meson)\"\n",
    "    elif energy > 3.05 and energy < 3.15:\n",
    "        return \"J/ψ (J/Psi)\"\n",
    "    elif energy > 3.65 and energy < 3.75:\n",
    "        return \"ψ (2S) (Psi)\"\n",
    "    elif energy > 4.15 and energy < 4.25:\n",
    "        return \"ψ (4160) (Psi)\"\n",
    "    elif energy > 5.25 and energy < 5.30:\n",
    "        return \"B⁰ (Neutral B meson)\"\n",
    "    elif energy > 5.35 and energy < 5.40:\n",
    "        return \"B⁰ₛ (Neutral, strange B meson)\"\n",
    "    elif energy > 9.38 and energy < 9.42:\n",
    "        return \"ηᵇ (1S) (Eta)\"\n",
    "    elif energy > 9.43 and energy < 9.49:\n",
    "        return \"Y (1S) (Y meson)\"\n",
    "    elif energy > 10 and energy < 10.05:\n",
    "        return \"Y (2S) (Y meson)\"\n",
    "    elif energy > 10.32 and energy < 10.40:\n",
    "        return \"Y (3S) (Y meson)\"\n",
    "    elif energy > 91 and energy < 91.5:\n",
    "        return \"Z\"\n",
    "    else:\n",
    "        return \"unknown\""
   ]
  },
  {
   "cell_type": "code",
   "execution_count": 16,
   "metadata": {},
   "outputs": [],
   "source": [
    "# Each slice overlaps with up to 50 previous slices of data.\n",
    "#\n",
    "# It will grow the slice size a little bit as the energy gets higger\n",
    "def next_slice(last_start, last_end):\n",
    "    last_step = last_end - last_start\n",
    "    next_start = last_start + last_step / 50\n",
    "    next_end = next_start * 1.0955\n",
    "    return (next_start, next_end)"
   ]
  },
  {
   "cell_type": "code",
   "execution_count": 17,
   "metadata": {},
   "outputs": [],
   "source": [
    "# Energy limit to search\n",
    "maximum = 120\n",
    "\n",
    "# Initialize slice limits and mode list\n",
    "(st, end) = next_slice(0.4, 0.4)\n",
    "modes = []"
   ]
  },
  {
   "cell_type": "code",
   "execution_count": null,
   "metadata": {},
   "outputs": [],
   "source": [
    "while True:\n",
    "    # We got to the end of the dataset, just end the iteration\n",
    "    if end > maximum:\n",
    "        break\n",
    "\n",
    "    # We get the slice of data\n",
    "    slc = dimuon[(dimuon.M >= st) & (dimuon.M <= end)]\n",
    "\n",
    "    # We calculate the mean, mode and standard deviation\n",
    "    mean = slc.M.mean()\n",
    "    mode = slc.M.mode().mean()\n",
    "    std = slc.M.std()\n",
    "\n",
    "    # We set the \"modified\" variable to know if we chnged the modes\n",
    "    modified = False\n",
    "    for idx, item in enumerate(modes):\n",
    "        if item['val'] == mode:\n",
    "            # There was some other mode with this energy before, we add one to the counter\n",
    "            modes[idx]['count'] += 1\n",
    "            if item['std'] > std:\n",
    "                # The new standard deviation is lower, let's update it\n",
    "                modes[idx]['std'] = std\n",
    "            modified = True\n",
    "            break\n",
    "\n",
    "    # There was no previous mode with this energy, let's add a new one\n",
    "    if not modified:\n",
    "        modes.append({'val': mode, 'count': 1, 'std': std})\n",
    "\n",
    "    # Get the next slice limits\n",
    "    (st, end) = next_slice(st, end)"
   ]
  },
  {
   "cell_type": "code",
   "execution_count": 12,
   "metadata": {},
   "outputs": [
    {
     "name": "stdout",
     "output_type": "stream",
     "text": [
      "'ρ (770) (Rho)' particle at 0.771 GeV with 48 modes (std: 0.018 [2.34 %]\n",
      "'Φ (1020) (Phi)' particle at 1.01 GeV with 48 modes (std: 0.0229 [2.27 %]\n",
      "'J/ψ (J/Psi)' particle at 3.11 GeV with 46 modes (std: 0.0419 [1.35 %]\n",
      "'ψ (2S) (Psi)' particle at 3.72 GeV with 42 modes (std: 0.0788 [2.12 %]\n",
      "'Y (1S) (Y meson)' particle at 9.45 GeV with 34 modes (std: 0.201 [2.12 %]\n",
      "'Z' particle at 91.1 GeV with 41 modes (std: 1.78 [1.95 %]\n"
     ]
    }
   ],
   "source": [
    "# After trial and error, seems that particles with more than 30 modes\n",
    "# and a standard deviation of 2.4% in respect to the current energy are real particles\n",
    "#found = (m for m in modes if m['std']/m['val'] < 0.024 and m['count'] > 30)\n",
    "#for pot in found:\n",
    " #   particle = get_particle(pot['val'])\n",
    "  #  print(\"'{}' particle at {:.3} GeV with {} modes (std: {:.3} [{:.3} %]\".format(particle, pot['val'], pot['count'], pot['std'], pot['std']/pot['val'] * 100))\n"
   ]
  },
  {
   "cell_type": "code",
   "execution_count": 13,
   "metadata": {},
   "outputs": [
    {
     "name": "stdout",
     "output_type": "stream",
     "text": [
      "Potential 'η (Eta)' particle at 0.545 GeV with 48 modes (std: 0.0136 [2.496 %]\n",
      "Potential 'unknown' particle at 1.22 GeV with 45 modes (std: 0.0305 [2.492 %]\n",
      "Potential 'unknown' particle at 2.46 GeV with 45 modes (std: 0.0608 [2.468 %]\n",
      "Potential 'unknown' particle at 6.75 GeV with 48 modes (std: 0.167 [2.475 %]\n",
      "Potential 'unknown' particle at 19.5 GeV with 48 modes (std: 0.487 [2.496 %]\n",
      "Potential 'unknown' particle at 56.5 GeV with 48 modes (std: 1.37 [2.421 %]\n"
     ]
    }
   ],
   "source": [
    "# There might be potential false positives/negatives with these values\n",
    "#potential = (m for m in modes if (m['std']/m['val'] < 0.025 and m['count'] > 40) and m['std']/m['val'] >= 0.024)\n",
    "#for pot in potential:\n",
    " #   particle = get_particle(pot['val'])\n",
    "  #  print(\"Potential '{}' particle at {:.3} GeV with {} modes (std: {:.3} [{:.4} %]\".format(particle, pot['val'], pot['count'], pot['std'], pot['std']/pot['val'] * 100))\n"
   ]
  },
  {
   "cell_type": "code",
   "execution_count": 10,
   "metadata": {},
   "outputs": [
    {
     "name": "stdout",
     "output_type": "stream",
     "text": [
      "[ 0.5455      0.7707      1.0082      1.2226      2.4625      3.1065\n",
      "  3.7163      5.3239      6.7481      9.45486667 19.5161     56.5238\n",
      " 91.13973333]\n"
     ]
    }
   ],
   "source": [
    "peaks = (p for p in modes if (p['std']/p['val'] < std_range and p['count'] > min_count))\n",
    "\n",
    "massPeaks = np.array([])\n",
    "\n",
    "for peak in peaks:\n",
    "    massPeaks = np.append(massPeaks, peak['val'])\n",
    "    \n",
    "print(massPeaks)"
   ]
  },
  {
   "cell_type": "code",
   "execution_count": 15,
   "metadata": {},
   "outputs": [
    {
     "data": {
      "image/png": "[encoded data removed]",
      "text/plain": [
       "<Figure size 720x504 with 1 Axes>"
      ]
     },
     "metadata": {},
     "output_type": "display_data"
    }
   ],
   "source": [
    "#plt.figure(figsize = (10, 7))\n",
    "#plt.hist(dimuon.M, bins = 500, range = (0, 120), color = \"blue\")\n",
    "#plt.show()"
   ]
  }
 ],
 "metadata": {
  "kernelspec": {
   "display_name": "Python 3",
   "language": "python",
   "name": "python3"
  },
  "language_info": {
   "codemirror_mode": {
    "name": "ipython",
    "version": 3
   },
   "file_extension": ".py",
   "mimetype": "text/x-python",
   "name": "python",
   "nbconvert_exporter": "python",
   "pygments_lexer": "ipython3",
   "version": "3.6.5"
  }
 },
 "nbformat": 4,
 "nbformat_minor": 2
}

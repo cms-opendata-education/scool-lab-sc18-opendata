{
 "cells": [
  {
   "cell_type": "code",
   "execution_count": 2,
   "metadata": {},
   "outputs": [],
   "source": [
    "import pandas as pd\n",
    "import numpy as np\n",
    "import matplotlib.pyplot as plt\n",
    "import numpy.random as rnd\n",
    "\n",
    "%matplotlib inline"
   ]
  },
  {
   "cell_type": "code",
   "execution_count": 17,
   "metadata": {},
   "outputs": [
    {
     "name": "stdout",
     "output_type": "stream",
     "text": [
      "d̄\n"
     ]
    }
   ],
   "source": [
    "print('d\\u0304')"
   ]
  },
  {
   "cell_type": "code",
   "execution_count": 7,
   "metadata": {},
   "outputs": [
    {
     "name": "stdout",
     "output_type": "stream",
     "text": [
      "    Mass (MeV)  Particle    Width Quark composition\n",
      "0          548         η  0.00131       complicated\n",
      "1          783   ω (782)     8.49       complicated\n",
      "2          775   ρ (770)      150       complicated\n",
      "3          498        K°                        ds̄\n",
      "4         1860        D⁰                        cū\n",
      "5         1020  ϕ (1020)     4.27               ss̄\n",
      "6         5280        B⁰                        db̄\n",
      "7         5370        B⁰                        sb̄\n",
      "8         3100  J/ψ (1S)   0.0929               cc̄\n",
      "9         3690    ψ (2S)    0.296               cc̄\n",
      "10        4190  ψ (4160)       70               cc̄\n",
      "11        9400    η (1S)       10               bb̄\n",
      "12        9460    Y (1S)    0.054               bb̄\n",
      "13       10020    Y (2S)    0.032               bb̄\n",
      "14       10400    Y (3S)   0.0203               bb̄\n",
      "15       91200         Z                          -\n"
     ]
    }
   ],
   "source": [
    "newdata =[ [548,'η', .00131, 'complicated'],\n",
    "                 [783, 'ω (782)', 8.49, 'complicated'],\n",
    "          [775, 'ρ (770)', 150, 'complicated'],\n",
    "                 [498, 'K\\u00b0', '', 'ds\\u0304'],\n",
    "                 [1860, 'D⁰', '', 'cu\\u0304'],\n",
    "                 [1020,'ϕ (1020)', 4.27, 'ss\\u0304'],\n",
    "                 [5280, 'B⁰', '', 'db\\u0304'],\n",
    "                 [5370, 'B⁰', '', 'sb\\u0304'],\n",
    "                 [3100, 'J/ψ (1S)', .0929, 'cc\\u0304'],\n",
    "                 [3690, 'ψ (2S)', .296, 'cc\\u0304'],\n",
    "                 [4190, 'ψ (4160)', 70, 'cc\\u0304'],\n",
    "                 [9400, 'η (1S)', 10, 'bb\\u0304'],\n",
    "                 [9460, 'Y (1S)', .0540, 'bb\\u0304'],\n",
    "                 [10020, 'Y (2S)', .0320, 'bb\\u0304'],\n",
    "                 [10400, 'Y (3S)', .0203, 'bb\\u0304'], [91200, 'Z', '', '-']]\n",
    "newdf = pd.DataFrame(newdata, columns=['Mass (MeV)','Particle','Width', 'Quark composition'])\n",
    "print (newdf)"
   ]
  },
  {
   "cell_type": "code",
   "execution_count": 8,
   "metadata": {},
   "outputs": [],
   "source": [
    "newdf.to_csv('ListOfParticles.csv')"
   ]
  }
 ],
 "metadata": {
  "kernelspec": {
   "display_name": "Python 3",
   "language": "python",
   "name": "python3"
  },
  "language_info": {
   "codemirror_mode": {
    "name": "ipython",
    "version": 3
   },
   "file_extension": ".py",
   "mimetype": "text/x-python",
   "name": "python",
   "nbconvert_exporter": "python",
   "pygments_lexer": "ipython3",
   "version": "3.6.5"
  }
 },
 "nbformat": 4,
 "nbformat_minor": 2
}

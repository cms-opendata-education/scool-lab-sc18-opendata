{
 "cells": [
  {
   "cell_type": "markdown",
   "metadata": {},
   "source": [
    "# Hi! This is a Jupyter notebook."
   ]
  },
  {
   "cell_type": "markdown",
   "metadata": {},
   "source": [
    "<img src='https://i.kym-cdn.com/entries/icons/original/000/026/561/car.jpg' align = right style = \"height:300px\">\n",
    "This bad boy can incorporate so much cool stuff.\n",
    "\n",
    "Notebooks can handle text (in markdown) or code as well as videos and images. And more, like java widgets or what not. The document, which is more like an interactive web site, is made of *cells*. Try double clicking around and see what's going on under the hood.\n",
    "\n",
    "Remember, everything in here is mutable. Just start dabbling away.\n",
    "\n",
    "**To run your cells, markdown or code, just press *ctrl + Enter* or the run button above.**\n",
    "\n"
   ]
  },
  {
   "cell_type": "markdown",
   "metadata": {},
   "source": [
    "### What's it for?"
   ]
  },
  {
   "cell_type": "markdown",
   "metadata": {},
   "source": [
    "All sorts of things, really. What do you use digital documents for? You can write in it, you can use it for presentations or whatever, but most importantly it's a very easy way to bring that text together with some code and not have it look clunky."
   ]
  },
  {
   "cell_type": "code",
   "execution_count": null,
   "metadata": {},
   "outputs": [],
   "source": [
    "# Speaking of code, let's have some. This is Python 3.\n",
    "\n",
    "import pandas as pd\n",
    "import numpy as np\n",
    "import matplotlib.pyplot as plt\n",
    "import numpy.random as rnd\n",
    "\n",
    "%matplotlib inline"
   ]
  },
  {
   "cell_type": "code",
   "execution_count": null,
   "metadata": {},
   "outputs": [],
   "source": [
    "# What should we do? How about some basic plotting?\n",
    "\n",
    "numbers = [1,2,3,4,5,6,4,32,234,98]\n",
    "plt.plot(numbers, 'vg')\n",
    "plt.title('Basic thingamabobs \\n', fontsize = 15)\n",
    "\n",
    "plt.show()"
   ]
  },
  {
   "cell_type": "code",
   "execution_count": null,
   "metadata": {},
   "outputs": [],
   "source": [
    "# Right, let's check something a bit more complicated.\n",
    "\n",
    "muons = pd.read_csv('http://opendata.cern.ch/record/545/files/Dimuon_DoubleMu.csv')\n",
    "\n",
    "bump = muons[(muons.M >= 80) & (muons.M <= 100)]\n",
    "\n",
    "threshold = 35\n",
    "\n",
    "highE = bump[(bump.pt1 >= threshold) & (bump.pt2 >= threshold)]\n",
    "lowE = bump[(bump.pt1 < threshold) & (bump.pt2 < threshold)]\n",
    "\n",
    "plt.figure(figsize = (15, 5))\n",
    "\n",
    "plt.hist(highE.M, 300, range = (80,100), alpha = 0.5 , color = 'black', label = 'High energy')\n",
    "plt.hist(lowE.M, 300, range = (80,100), alpha = 0.5 , color = 'red', label = 'Low energy')\n",
    "\n",
    "plt.xlabel('Invariant mass (GeV/$c^2$)', fontsize = 15)\n",
    "plt.ylabel('Number of events \\n', fontsize = 15)\n",
    "plt.title('Measured distribution of events with two muons \\n', fontsize = 15)\n",
    "plt.legend()\n",
    "\n",
    "plt.show()"
   ]
  },
  {
   "cell_type": "markdown",
   "metadata": {},
   "source": [
    "And like that, we can read data in and do analysis on it as we desire, bam!"
   ]
  },
  {
   "cell_type": "markdown",
   "metadata": {},
   "source": [
    "### Now you try it!"
   ]
  },
  {
   "cell_type": "code",
   "execution_count": null,
   "metadata": {},
   "outputs": [],
   "source": [
    "# we're code cells! Write in us! Remember, that you can always add and delete cells as you need."
   ]
  },
  {
   "cell_type": "code",
   "execution_count": null,
   "metadata": {},
   "outputs": [],
   "source": [
    "# Anything is fine, really, just to get the hang of it. Try basic maths like\n",
    "\n",
    "print(4*5 + 1)\n",
    "\n",
    "# or texts like:\n",
    "\n",
    "animals = ['zebra', 'dog', 'dragon', 'caterpillar']\n",
    "choice = rnd.choice(animals)\n",
    "print('Animal of the day is: a ' + choice)"
   ]
  },
  {
   "cell_type": "code",
   "execution_count": null,
   "metadata": {},
   "outputs": [],
   "source": []
  },
  {
   "cell_type": "code",
   "execution_count": null,
   "metadata": {},
   "outputs": [],
   "source": []
  }
 ],
 "metadata": {
  "kernelspec": {
   "display_name": "Python 3",
   "language": "python",
   "name": "python3"
  },
  "language_info": {
   "codemirror_mode": {
    "name": "ipython",
    "version": 3
   },
   "file_extension": ".py",
   "mimetype": "text/x-python",
   "name": "python",
   "nbconvert_exporter": "python",
   "pygments_lexer": "ipython3",
   "version": "3.6.5"
  }
 },
 "nbformat": 4,
 "nbformat_minor": 2
}
